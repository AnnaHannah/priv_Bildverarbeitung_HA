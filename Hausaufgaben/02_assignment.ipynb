{
 "cells": [
  {
   "cell_type": "markdown",
   "metadata": {},
   "source": [
    "# Image Processing SS 20 - Assignment - 02\n",
    "\n",
    "### Deadline is 6.5.2020 at 11:55am\n",
    "\n",
    "Please solve the assignments together with a partner.\n",
    "I will run every notebook. Make sure the code runs through. Select `Kernel` -> `Restart & Run All` to test it.\n"
   ]
  },
  {
   "cell_type": "markdown",
   "metadata": {},
   "source": [
    "# Exercise 1 - 10 Points\n",
    "\n",
    "Implement affine transformation with [bicubic interpolation](https://en.wikipedia.org/wiki/Bicubic_interpolation).\n",
    "Implement the functions `affine_transformation` and `bicubic_interpolation`. Apply some affine transformation of your choice and smooth the output using your bicubic interpolation."
   ]
  },
  {
   "cell_type": "code",
   "execution_count": null,
   "metadata": {},
   "outputs": [],
   "source": [
    "# display the plots inside the notebook\n",
    "%matplotlib inline"
   ]
  },
  {
   "cell_type": "code",
   "execution_count": null,
   "metadata": {},
   "outputs": [],
   "source": [
    "import numpy as np\n",
    "import matplotlib.pyplot as plt\n",
    "import pylab\n",
    "pylab.rcParams['figure.figsize'] = (12, 12)   # This makes the plot bigger"
   ]
  },
  {
   "cell_type": "markdown",
   "metadata": {},
   "source": [
    "The [skimage](http://scikit-image.org/) library comes with multiple useful test images.  Let's start with an image of an astronaut. "
   ]
  },
  {
   "cell_type": "code",
   "execution_count": null,
   "metadata": {},
   "outputs": [],
   "source": [
    "from skimage.data import astronaut\n",
    "from skimage.color import rgb2gray"
   ]
  },
  {
   "cell_type": "code",
   "execution_count": null,
   "metadata": {},
   "outputs": [],
   "source": [
    "# We use a gray image. All the algorithms should work with color images too.\n",
    "img = rgb2gray(astronaut() / 255.)\n",
    "plt.imshow(img, cmap='gray')\n",
    "plt.show()"
   ]
  },
  {
   "cell_type": "code",
   "execution_count": null,
   "metadata": {},
   "outputs": [],
   "source": [
    "def derive_y(image):\n",
    "    \"\"\"Computes the derivative of the image w.r.t the y coordinate\"\"\"\n",
    "    derived_image = np.zeros_like(image)\n",
    "    for x in range(image.shape[0]):\n",
    "        for y in range(image.shape[1]):\n",
    "            if y + 1 < image.shape[1] and y - 1 > 0:\n",
    "                derived_image[x,y] = (image[x, y + 1] - image[x, y - 1]) / 2.0\n",
    "    return derived_image\n",
    "\n",
    "def derive_x(image):\n",
    "    \"\"\"Computes the derivative of the image w.r.t the x coordinate\"\"\"\n",
    "    derived_image = np.zeros_like(image)\n",
    "    for x in range(image.shape[0]):\n",
    "        for y in range(image.shape[1]):\n",
    "            if x + 1 < image.shape[1] and x - 1 > 0:\n",
    "                derived_image[x,y] = (image[x + 1, y] - image[x - 1, y]) / 2.0\n",
    "    return derived_image"
   ]
  },
  {
   "cell_type": "code",
   "execution_count": null,
   "metadata": {},
   "outputs": [],
   "source": [
    "dx_img = derive_x(img)\n",
    "dy_img = derive_y(img)"
   ]
  },
  {
   "cell_type": "code",
   "execution_count": null,
   "metadata": {},
   "outputs": [],
   "source": [
    "plt.figure(figsize=(18, 12))\n",
    "plt.subplot(131)\n",
    "plt.imshow(img, cmap='gray')\n",
    "plt.subplot(132)\n",
    "plt.imshow(dx_img, cmap='gray')\n",
    "plt.subplot(133)\n",
    "plt.imshow(dy_img, cmap='gray')\n",
    "plt.show()"
   ]
  },
  {
   "cell_type": "markdown",
   "metadata": {
    "pycharm": {
     "name": "#%% md\n"
    }
   },
   "source": [
    "Here are some sample affine transformations to be used later on"
   ]
  },
  {
   "cell_type": "code",
   "execution_count": null,
   "metadata": {},
   "outputs": [],
   "source": [
    "T_scale = np.array([\n",
    "    [0.75, 0, 0],\n",
    "    [0, 0.75, 0],\n",
    "    [0, 0, 1],\n",
    "])"
   ]
  },
  {
   "cell_type": "code",
   "execution_count": null,
   "metadata": {},
   "outputs": [],
   "source": [
    "T_affine = np.array([\n",
    "    [1, 0.3, 0],\n",
    "    [0, 1, 0],\n",
    "    [0, 0, 1],\n",
    "])"
   ]
  },
  {
   "cell_type": "code",
   "execution_count": null,
   "metadata": {},
   "outputs": [],
   "source": [
    "# you can use this function to invert the matricies\n",
    "np.linalg.inv(T_scale)"
   ]
  },
  {
   "cell_type": "code",
   "execution_count": null,
   "metadata": {},
   "outputs": [],
   "source": [
    "def affine_transformation(img, matrix):\n",
    "    # your code here\n",
    "    # apply bicubic interpolation\n",
    "    ind_hg = matrix @ np.concatenate([np.indices(img.shape).reshape(2, -1), np.ones((1, np.indices(img.shape).reshape(2, -1).shape[1]))], axis=0)\n",
    "    sha = int(np.ceil(np.max(ind_hg[0, :]))), int(np.ceil(np.max(ind_hg[1, :])))\n",
    "\n",
    "    img =bicubic_interpolation(img, np.linalg.inv(matrix) @ np.concatenate([np.indices(np.zeros(sha).shape).reshape(2, -1),\n",
    "                                                                              np.ones((1, np.indices(np.zeros(sha).shape).reshape(2, -1).shape[1]))], axis=0), matrix, np.zeros(sha))\n",
    "    return img\n"
   ]
  },
  {
   "cell_type": "code",
   "execution_count": null,
   "metadata": {},
   "outputs": [],
   "source": [
    "def bicubic_interpolation(img, indicies, m, r):\n",
    "\n",
    "    dx_img = derive_x(img)\n",
    "    dy_img = derive_y(img)\n",
    "    dxy_img = derive_x(dy_img)\n",
    "\n",
    "    xsize = img.shape[0]\n",
    "    ysize = img.shape[1]\n",
    "\n",
    "    #wikipedia (https://en.wikipedia.org/wiki/Bicubic_interpolation):\n",
    "    inv_matrix = np.array([\n",
    "        [1, 0, 0, 0, 0, 0, 0, 0, 0, 0, 0, 0, 0, 0, 0, 0],\n",
    "        [0, 0, 0, 0, 1, 0, 0, 0, 0, 0, 0, 0, 0, 0, 0, 0],\n",
    "        [-3, 3, 0, 0, -2, -1, 0, 0, 0, 0, 0, 0, 0, 0, 0, 0],\n",
    "        [2, -2, 0, 0, 1, 1, 0, 0, 0, 0, 0, 0, 0, 0, 0, 0],\n",
    "        [0, 0, 0, 0, 0, 0, 0, 0, 1, 0, 0, 0, 0, 0, 0, 0],\n",
    "        [0, 0, 0, 0, 0, 0, 0, 0, 0, 0, 0, 0, 1, 0, 0, 0],\n",
    "        [0, 0, 0, 0, 0, 0, 0, 0, -3, 3, 0, 0, -2, -1, 0, 0],\n",
    "        [0, 0, 0, 0, 0, 0, 0, 0, 2, -2, 0, 0, 1, 1, 0, 0],\n",
    "        [-3, 0, 3, 0, 0, 0, 0, 0, -2, 0, -1, 0, 0, 0, 0, 0],\n",
    "        [0, 0, 0, 0, -3, 0, 3, 0, 0, 0, 0, 0, -2, 0, -1, 0],\n",
    "        [9, -9, -9, 9, 6, 3, -6, -3, 6, -6, 3, -3, 4, 2, 2, 1],\n",
    "        [-6, 6, 6, -6, -3, -3, 3, 3, -4, 4, -2, 2, -2, -2, -1, -1],\n",
    "        [2, 0, -2, 0, 0, 0, 0, 0, 1, 0, 1, 0, 0, 0, 0, 0],\n",
    "        [0, 0, 0, 0, 2, 0, -2, 0, 0, 0, 0, 0, 1, 0, 1, 0],\n",
    "        [-6, 6, 6, -6, -4, -2, 4, 2, -3, 3, -3, 3, -2, -1, -2, -1],\n",
    "        [4, -4, -4, 4, 2, 2, -2, -2, 2, -2, 2, -2, 1, 1, 1, 1]\n",
    "    ])\n",
    "\n",
    "    for i in range(indicies.shape[-1]):\n",
    "        p = indicies[:, i]\n",
    "\n",
    "        x_vfloor = int(np.floor(p[0]))\n",
    "        y_vfloor = int(np.floor(p[1]))\n",
    "        x_vceil = int(np.ceil(p[0]))\n",
    "        y_vceil = int(np.ceil(p[1]))\n",
    "\n",
    "\n",
    "        x_p2 = (p[0] - x_vfloor) ** 2\n",
    "        y_p2 = (p[1] - y_vfloor) ** 2\n",
    "        x_p3 = (p[0] - x_vfloor) ** 3\n",
    "        y_p3 = (p[1] - y_vfloor) ** 3\n",
    "\n",
    "        if 0 < x_vfloor < xsize and \\\n",
    "                0 < y_vfloor < ysize and \\\n",
    "                0 < x_vceil < xsize and \\\n",
    "                0 < y_vceil < ysize:\n",
    "\n",
    "            fvalues = np.array([\n",
    "                img[x_vfloor][y_vfloor], img[x_vceil][y_vfloor], img[x_vfloor][y_vceil],\n",
    "                img[x_vceil][y_vceil],\n",
    "\n",
    "                dx_img[x_vfloor][y_vfloor], dx_img[x_vceil][y_vfloor], dx_img[x_vfloor][y_vceil],\n",
    "                dx_img[x_vceil][y_vceil],\n",
    "\n",
    "                dy_img[x_vfloor][y_vfloor], dy_img[x_vceil][y_vfloor], dy_img[x_vfloor][y_vceil],\n",
    "                dy_img[x_vceil][y_vceil],\n",
    "\n",
    "                dxy_img[x_vfloor][y_vfloor], dxy_img[x_vceil][y_vfloor], dxy_img[x_vfloor][y_vceil],\n",
    "                dxy_img[x_vceil][y_vceil]\n",
    "            ])\n",
    "            r[int(np.rint((m @ p)[0]))][int(np.rint((m @ p)[1]))] = (inv_matrix @ fvalues)[0] + (inv_matrix @ fvalues)[4] * (p[1] - y_vfloor) + (inv_matrix @ fvalues)[8] * y_p2 + (inv_matrix @ fvalues)[12] * y_p3 \\\n",
    "                                                                            + ((inv_matrix @ fvalues)[1] + (inv_matrix @ fvalues)[5] * (p[1] - y_vfloor) + (inv_matrix @ fvalues)[9] * y_p2 + (inv_matrix @ fvalues)[13] * y_p3) * (p[0] - x_vfloor) \\\n",
    "                                                                             + ((inv_matrix @ fvalues)[2] + (inv_matrix @ fvalues)[6] * (p[1] - y_vfloor) + (inv_matrix @ fvalues)[10] * y_p2 + (inv_matrix @ fvalues)[14] * y_p3) * x_p2 \\\n",
    "                                                                             + ((inv_matrix @ fvalues)[3] + (inv_matrix @ fvalues)[7] * (p[1] - y_vfloor) + (inv_matrix @ fvalues)[11] * y_p2 + (inv_matrix @ fvalues)[15] * y_p3) * x_p3 \\\n",
    "\n",
    "\n",
    "    return r"
   ]
  },
  {
   "cell_type": "code",
   "execution_count": null,
   "metadata": {},
   "outputs": [],
   "source": [
    "img_scale = affine_transformation(img, T_scale)\n",
    "img_affine = affine_transformation(img, T_affine)"
   ]
  },
  {
   "cell_type": "code",
   "execution_count": null,
   "metadata": {},
   "outputs": [],
   "source": [
    "plt.imshow(img_scale, cmap='gray')\n",
    "plt.show()"
   ]
  },
  {
   "cell_type": "code",
   "execution_count": null,
   "metadata": {
    "pycharm": {
     "name": "#%%\n"
    }
   },
   "outputs": [],
   "source": [
    "plt.imshow(img_affine, cmap='gray')\n",
    "plt.show()\n"
   ]
  }
 ],
 "metadata": {
  "kernelspec": {
   "display_name": "Python 3",
   "language": "python",
   "name": "python3"
  },
  "language_info": {
   "codemirror_mode": {
    "name": "ipython",
    "version": 3
   },
   "file_extension": ".py",
   "mimetype": "text/x-python",
   "name": "python",
   "nbconvert_exporter": "python",
   "pygments_lexer": "ipython3",
   "version": "3.7.3"
  }
 },
 "nbformat": 4,
 "nbformat_minor": 1
}